{
 "cells": [
  {
   "cell_type": "code",
   "execution_count": 2,
   "id": "ca903275-85d1-4aad-9cdb-5e479f7446ac",
   "metadata": {},
   "outputs": [],
   "source": [
    "import numpy as np"
   ]
  },
  {
   "cell_type": "code",
   "execution_count": 6,
   "id": "4d04d783-fdd7-41d9-ae67-c74ede29dc29",
   "metadata": {},
   "outputs": [
    {
     "name": "stdout",
     "output_type": "stream",
     "text": [
      "[[0 1 2 3]\n",
      " [4 5 6 7]]\n",
      "[[ 8  9 10 11]\n",
      " [12 13 14 15]]\n"
     ]
    }
   ],
   "source": [
    "#Scenario 1\n",
    "\n",
    "a1 = np.arange(8).reshape(2, 4)\n",
    "a2 = np.arange(8, 16).reshape(2, 4)\n",
    "\n",
    "print(a1)\n",
    "print(a2)"
   ]
  },
  {
   "cell_type": "code",
   "execution_count": 8,
   "id": "63c806c5-6182-4a8d-b0b6-5ec7e39384db",
   "metadata": {},
   "outputs": [
    {
     "data": {
      "text/plain": [
       "array([[ 8, 10, 12, 14],\n",
       "       [16, 18, 20, 22]])"
      ]
     },
     "execution_count": 8,
     "metadata": {},
     "output_type": "execute_result"
    }
   ],
   "source": [
    "a1 + a2"
   ]
  },
  {
   "cell_type": "code",
   "execution_count": 14,
   "id": "be39f262-64bc-4f70-bf84-6d70cf63e7cd",
   "metadata": {},
   "outputs": [
    {
     "name": "stdout",
     "output_type": "stream",
     "text": [
      "[[0 1 2]\n",
      " [3 4 5]\n",
      " [6 7 8]] [[0 1 2]]\n"
     ]
    }
   ],
   "source": [
    "#Scenario 2 : Shape not Same\n",
    "\n",
    "a3 = np.arange(9).reshape(3, 3)\n",
    "a4 = np.arange(3).reshape(1, 3)\n",
    "\n",
    "print(a3, a4)"
   ]
  },
  {
   "cell_type": "code",
   "execution_count": 12,
   "id": "d7a54b78-89ff-4942-99a3-6173e476f888",
   "metadata": {},
   "outputs": [
    {
     "data": {
      "text/plain": [
       "array([[ 0,  2,  4],\n",
       "       [ 3,  5,  7],\n",
       "       [ 6,  8, 10]])"
      ]
     },
     "execution_count": 12,
     "metadata": {},
     "output_type": "execute_result"
    }
   ],
   "source": [
    "a3 + a4"
   ]
  },
  {
   "cell_type": "markdown",
   "id": "ff678602-963e-4ae5-91f5-b308dfb6ca3c",
   "metadata": {},
   "source": [
    "#The second array got added to all the rows"
   ]
  },
  {
   "cell_type": "markdown",
   "id": "bb54afe3-7164-4ba4-95b3-40db7b6eee42",
   "metadata": {},
   "source": [
    "**Broadcasting**\n",
    "\n",
    "The term broadcasting refers to the ability of NumPy to treat arrays of different shapes during arithmetic operations. Arithmetic operations on arrays are usually done on corresponding elements. If two arrays are of exactly he same shape, then these operations are smoothly performed.\n",
    "\n",
    "If the dimensions of two arrays are dissimilar, element-to-element operations are not possible. However, opeartions on arrays of non-similar shapes is still possible in NumPy, because of the broadcasting capability. The smaller array is broadcast to the size of the larger array so that they have compatible shapes."
   ]
  },
  {
   "cell_type": "markdown",
   "id": "ed204b09-1725-416e-b5e1-64f1afe127ff",
   "metadata": {},
   "source": [
    "**Rules for Broadcasting**"
   ]
  },
  {
   "cell_type": "code",
   "execution_count": 29,
   "id": "0cc3a2fc-249e-4052-8071-ffe633269eee",
   "metadata": {},
   "outputs": [
    {
     "data": {
      "text/plain": [
       "array([[ 8, 10, 12, 14],\n",
       "       [16, 18, 20, 22]])"
      ]
     },
     "execution_count": 29,
     "metadata": {},
     "output_type": "execute_result"
    }
   ],
   "source": [
    "#IF x = m and y = n, operation will take place\n",
    "\n",
    "a1 = np.arange(8).reshape(2, 4)\n",
    "a2 = np.arange(8, 16).reshape(2, 4)\n",
    "\n",
    "a1 + a2\n"
   ]
  },
  {
   "cell_type": "code",
   "execution_count": 31,
   "id": "be7764db-8d89-4bb8-b0c1-8b5db7c09c40",
   "metadata": {},
   "outputs": [
    {
     "data": {
      "text/plain": [
       "array([[ 0,  2,  4],\n",
       "       [ 3,  5,  7],\n",
       "       [ 6,  8, 10]])"
      ]
     },
     "execution_count": 31,
     "metadata": {},
     "output_type": "execute_result"
    }
   ],
   "source": [
    "#If x = 1 and y = n, operation will take place (same dimensions)\n",
    "\n",
    "a3 = np.arange(9).reshape(3, 3)\n",
    "a4 = np.arange(3).reshape(1, 3)\n",
    "\n",
    "a3 + a4"
   ]
  },
  {
   "cell_type": "code",
   "execution_count": 37,
   "id": "66ecac22-d0f4-4c60-8b81-a32cb4f09b33",
   "metadata": {},
   "outputs": [
    {
     "name": "stdout",
     "output_type": "stream",
     "text": [
      "[[ 0  1  2]\n",
      " [ 3  4  5]\n",
      " [ 6  7  8]\n",
      " [ 9 10 11]] [[0]\n",
      " [1]\n",
      " [2]\n",
      " [3]]\n"
     ]
    }
   ],
   "source": [
    "#If y = 1 and x = n, operation will take place (same dimension)\n",
    "\n",
    "a5 = np.arange(12).reshape(4, 3)\n",
    "a6 = np.arange(4).reshape(4, 1)\n",
    "\n",
    "print(a5, a6)\n"
   ]
  },
  {
   "cell_type": "code",
   "execution_count": 39,
   "id": "6c065683-f4bc-4718-a1ed-ac00e6449f53",
   "metadata": {},
   "outputs": [
    {
     "data": {
      "text/plain": [
       "array([[ 0,  1,  2],\n",
       "       [ 4,  5,  6],\n",
       "       [ 8,  9, 10],\n",
       "       [12, 13, 14]])"
      ]
     },
     "execution_count": 39,
     "metadata": {},
     "output_type": "execute_result"
    }
   ],
   "source": [
    "a5+a6"
   ]
  },
  {
   "cell_type": "code",
   "execution_count": 41,
   "id": "d383250c-580a-46c2-be52-a99b0c40052c",
   "metadata": {},
   "outputs": [
    {
     "name": "stdout",
     "output_type": "stream",
     "text": [
      "[[0 1 2]] [[ 0  1  2  3]\n",
      " [ 4  5  6  7]\n",
      " [ 8  9 10 11]\n",
      " [12 13 14 15]]\n"
     ]
    }
   ],
   "source": [
    "#If x = 1 and y!=n then operation WILL NOT TAKE PLACE\n",
    "\n",
    "a7 = np.arange(3).reshape(1, 3)\n",
    "a8 = np.arange(16).reshape(4, 4)\n",
    "\n",
    "print(a7, a8)"
   ]
  },
  {
   "cell_type": "code",
   "execution_count": 43,
   "id": "276692cc-99e2-428f-88e8-70f442d1b60c",
   "metadata": {},
   "outputs": [
    {
     "ename": "ValueError",
     "evalue": "operands could not be broadcast together with shapes (1,3) (4,4) ",
     "output_type": "error",
     "traceback": [
      "\u001b[1;31m---------------------------------------------------------------------------\u001b[0m",
      "\u001b[1;31mValueError\u001b[0m                                Traceback (most recent call last)",
      "Cell \u001b[1;32mIn[43], line 1\u001b[0m\n\u001b[1;32m----> 1\u001b[0m \u001b[43ma7\u001b[49m\u001b[38;5;241;43m+\u001b[39;49m\u001b[43ma8\u001b[49m\n",
      "\u001b[1;31mValueError\u001b[0m: operands could not be broadcast together with shapes (1,3) (4,4) "
     ]
    }
   ],
   "source": [
    "a7+a8"
   ]
  },
  {
   "cell_type": "code",
   "execution_count": 47,
   "id": "d4fc2c86-77bd-434f-a747-5145bf13b198",
   "metadata": {},
   "outputs": [
    {
     "name": "stdout",
     "output_type": "stream",
     "text": [
      "[[0 1 2]] [[0]\n",
      " [1]\n",
      " [2]]\n"
     ]
    }
   ],
   "source": [
    "# If x = 1 and n = 1 then y == m, then operation will take place\n",
    "\n",
    "a9 = np.arange(3).reshape(1, 3)\n",
    "a10 = np.arange(3).reshape(3, 1)\n",
    "\n",
    "print(a9, a10)"
   ]
  },
  {
   "cell_type": "code",
   "execution_count": 49,
   "id": "655cd74e-a503-466b-b18a-76b82e1648fc",
   "metadata": {},
   "outputs": [
    {
     "data": {
      "text/plain": [
       "array([[0, 1, 2],\n",
       "       [1, 2, 3],\n",
       "       [2, 3, 4]])"
      ]
     },
     "execution_count": 49,
     "metadata": {},
     "output_type": "execute_result"
    }
   ],
   "source": [
    "a9 + a10"
   ]
  },
  {
   "cell_type": "code",
   "execution_count": 51,
   "id": "ed0b94ce-5161-4c77-b05c-ffa46d9c3f20",
   "metadata": {},
   "outputs": [
    {
     "name": "stdout",
     "output_type": "stream",
     "text": [
      "[[0]] [[ 0  1  2  3  4]\n",
      " [ 5  6  7  8  9]\n",
      " [10 11 12 13 14]\n",
      " [15 16 17 18 19]]\n"
     ]
    }
   ],
   "source": [
    "# If x = 1 and y = 1, then operation will take place no matter what\n",
    "\n",
    "a11 = np.arange(1).reshape(1, 1)\n",
    "a12 = np.arange(20).reshape(4, 5)\n",
    "\n",
    "print(a11, a12)"
   ]
  },
  {
   "cell_type": "code",
   "execution_count": 53,
   "id": "77e15d11-2ef1-4407-b9d7-49df790d859e",
   "metadata": {},
   "outputs": [
    {
     "data": {
      "text/plain": [
       "array([[ 0,  1,  2,  3,  4],\n",
       "       [ 5,  6,  7,  8,  9],\n",
       "       [10, 11, 12, 13, 14],\n",
       "       [15, 16, 17, 18, 19]])"
      ]
     },
     "execution_count": 53,
     "metadata": {},
     "output_type": "execute_result"
    }
   ],
   "source": [
    "a11 + a12"
   ]
  },
  {
   "cell_type": "code",
   "execution_count": null,
   "id": "38f8c110-37f5-4dec-a7fc-fcd3bc46f1b7",
   "metadata": {},
   "outputs": [],
   "source": []
  }
 ],
 "metadata": {
  "kernelspec": {
   "display_name": "Python 3 (ipykernel)",
   "language": "python",
   "name": "python3"
  },
  "language_info": {
   "codemirror_mode": {
    "name": "ipython",
    "version": 3
   },
   "file_extension": ".py",
   "mimetype": "text/x-python",
   "name": "python",
   "nbconvert_exporter": "python",
   "pygments_lexer": "ipython3",
   "version": "3.12.7"
  }
 },
 "nbformat": 4,
 "nbformat_minor": 5
}
