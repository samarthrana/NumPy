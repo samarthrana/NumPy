{
 "cells": [
  {
   "cell_type": "code",
   "execution_count": 2,
   "id": "ad37afb5-6c61-4886-9282-b366fb1da987",
   "metadata": {},
   "outputs": [],
   "source": [
    "import numpy as np"
   ]
  },
  {
   "cell_type": "code",
   "execution_count": 10,
   "id": "823474b5-8ca0-4c7e-8ef0-e777a8ed72f1",
   "metadata": {},
   "outputs": [
    {
     "data": {
      "text/plain": [
       "0.8446795994849069"
      ]
     },
     "execution_count": 10,
     "metadata": {},
     "output_type": "execute_result"
    }
   ],
   "source": [
    "np.random.random()  #any random value between 0 and 1"
   ]
  },
  {
   "cell_type": "code",
   "execution_count": 19,
   "id": "8151f46f-5ab4-4708-a6c3-83b424c0eefd",
   "metadata": {},
   "outputs": [
    {
     "data": {
      "text/plain": [
       "0.417022004702574"
      ]
     },
     "execution_count": 19,
     "metadata": {},
     "output_type": "execute_result"
    }
   ],
   "source": [
    "#If we want same random value again and again\n",
    "\n",
    "np.random.seed(1)\n",
    "np.random.random()"
   ]
  },
  {
   "cell_type": "code",
   "execution_count": 41,
   "id": "9619ff16-c27d-42ed-8de7-74166b9e26ca",
   "metadata": {},
   "outputs": [
    {
     "data": {
      "text/plain": [
       "7.421286061133462"
      ]
     },
     "execution_count": 41,
     "metadata": {},
     "output_type": "execute_result"
    }
   ],
   "source": [
    "#Random value between a range\n",
    "\n",
    "np.random.seed(1)\n",
    "np.random.uniform(2, 15)"
   ]
  },
  {
   "cell_type": "code",
   "execution_count": 51,
   "id": "44f94593-4ec4-4df1-bc25-4e246c51136d",
   "metadata": {},
   "outputs": [
    {
     "data": {
      "text/plain": [
       "array([35.42882011, 75.33039821, 72.87380055, 88.44730303, 62.7435485 ,\n",
       "       75.34330097, 35.54093586, 27.72286128, 89.6927356 , 43.3810278 ])"
      ]
     },
     "execution_count": 51,
     "metadata": {},
     "output_type": "execute_result"
    }
   ],
   "source": [
    "#10 random values between 1 and 100\n",
    "\n",
    "np.random.uniform(1, 100, 10)"
   ]
  },
  {
   "cell_type": "code",
   "execution_count": 53,
   "id": "960146ae-2cf4-4344-b1f0-4258c790d22b",
   "metadata": {},
   "outputs": [
    {
     "data": {
      "text/plain": [
       "array([[96.51916467, 66.68070828, 62.5478763 , 12.35985132, 94.99943661],\n",
       "       [45.54130121, 58.26057182, 41.40554347, 24.46567104, 90.43457254]])"
      ]
     },
     "execution_count": 53,
     "metadata": {},
     "output_type": "execute_result"
    }
   ],
   "source": [
    "np.random.uniform(1, 100, 10).reshape(2, 5)"
   ]
  },
  {
   "cell_type": "code",
   "execution_count": 59,
   "id": "e309779d-d03c-4153-94c9-2ae55b16e308",
   "metadata": {},
   "outputs": [
    {
     "data": {
      "text/plain": [
       "array([[54, 85],\n",
       "       [11, 97],\n",
       "       [56, 62],\n",
       "       [57, 90],\n",
       "       [22, 97]])"
      ]
     },
     "execution_count": 59,
     "metadata": {},
     "output_type": "execute_result"
    }
   ],
   "source": [
    "np.random.randint(1, 100, 10).reshape(5, 2)"
   ]
  },
  {
   "cell_type": "code",
   "execution_count": 65,
   "id": "3c26fbe3-bcfb-429a-a3d4-cc756deca87a",
   "metadata": {},
   "outputs": [
    {
     "data": {
      "text/plain": [
       "array([9, 3, 8, 6, 6, 5])"
      ]
     },
     "execution_count": 65,
     "metadata": {},
     "output_type": "execute_result"
    }
   ],
   "source": [
    "a = np.random.randint(1, 10, 6)\n",
    "a"
   ]
  },
  {
   "cell_type": "code",
   "execution_count": 73,
   "id": "47496832-896e-44f9-9c0c-b8deb228c413",
   "metadata": {},
   "outputs": [
    {
     "data": {
      "text/plain": [
       "9"
      ]
     },
     "execution_count": 73,
     "metadata": {},
     "output_type": "execute_result"
    }
   ],
   "source": [
    "a.max()"
   ]
  },
  {
   "cell_type": "code",
   "execution_count": 69,
   "id": "2f741f04-958b-44df-a8bf-49ad9d6a735e",
   "metadata": {},
   "outputs": [
    {
     "data": {
      "text/plain": [
       "9"
      ]
     },
     "execution_count": 69,
     "metadata": {},
     "output_type": "execute_result"
    }
   ],
   "source": [
    "np.max(a)"
   ]
  },
  {
   "cell_type": "code",
   "execution_count": 71,
   "id": "45114e09-d166-403d-afab-65b1c35f8b5e",
   "metadata": {},
   "outputs": [
    {
     "data": {
      "text/plain": [
       "3"
      ]
     },
     "execution_count": 71,
     "metadata": {},
     "output_type": "execute_result"
    }
   ],
   "source": [
    "np.min(a)"
   ]
  },
  {
   "cell_type": "markdown",
   "id": "1c2d4056-c09b-4892-a597-a3e0e8a78315",
   "metadata": {},
   "source": [
    "ARGMAX attribute"
   ]
  },
  {
   "cell_type": "code",
   "execution_count": 77,
   "id": "c1de2a08-c346-463e-a2eb-cdc41fd15e39",
   "metadata": {},
   "outputs": [
    {
     "data": {
      "text/plain": [
       "0"
      ]
     },
     "execution_count": 77,
     "metadata": {},
     "output_type": "execute_result"
    }
   ],
   "source": [
    "np.argmax(a)  #Gives the index of the maximumvalue"
   ]
  },
  {
   "cell_type": "code",
   "execution_count": 79,
   "id": "1a765dba-91d2-4746-b255-cbb3c6345d40",
   "metadata": {},
   "outputs": [
    {
     "data": {
      "text/plain": [
       "9"
      ]
     },
     "execution_count": 79,
     "metadata": {},
     "output_type": "execute_result"
    }
   ],
   "source": [
    "a[np.argmax(a)]"
   ]
  },
  {
   "cell_type": "code",
   "execution_count": 81,
   "id": "8aad1c6b-8855-4986-a754-e7508e34ac35",
   "metadata": {},
   "outputs": [
    {
     "data": {
      "text/plain": [
       "1"
      ]
     },
     "execution_count": 81,
     "metadata": {},
     "output_type": "execute_result"
    }
   ],
   "source": [
    "np.argmin(a)"
   ]
  },
  {
   "cell_type": "code",
   "execution_count": 85,
   "id": "3db01dfe-9b97-4a86-b6ba-88403ded8b22",
   "metadata": {},
   "outputs": [
    {
     "data": {
      "text/plain": [
       "3"
      ]
     },
     "execution_count": 85,
     "metadata": {},
     "output_type": "execute_result"
    }
   ],
   "source": [
    "a[np.argmin(a)]"
   ]
  },
  {
   "cell_type": "code",
   "execution_count": 90,
   "id": "2eb63d87-134a-463b-9190-059c9e83fc2b",
   "metadata": {},
   "outputs": [
    {
     "data": {
      "text/plain": [
       "array([17, 11, 14,  4,  3, 15, 15,  1, 12,  4])"
      ]
     },
     "execution_count": 90,
     "metadata": {},
     "output_type": "execute_result"
    }
   ],
   "source": [
    "a = np.random.randint(1, 20, 10)\n",
    "a"
   ]
  },
  {
   "cell_type": "code",
   "execution_count": 96,
   "id": "c7f36f62-7361-439e-a906-d056261ab592",
   "metadata": {},
   "outputs": [
    {
     "data": {
      "text/plain": [
       "array([-1, -1, 14,  4, -1, -1, -1, -1, 12,  4])"
      ]
     },
     "execution_count": 96,
     "metadata": {},
     "output_type": "execute_result"
    }
   ],
   "source": [
    "# Replacing odd values with -1 but the array permanently changes\n",
    "\n",
    "a[a%2==1]= -1\n",
    "a"
   ]
  },
  {
   "cell_type": "code",
   "execution_count": 102,
   "id": "0473aa97-24d1-48f4-8725-77a009ee01fa",
   "metadata": {},
   "outputs": [
    {
     "data": {
      "text/plain": [
       "array([21, 45, 16, 31, 28, 15, 20, 27, 44, 23])"
      ]
     },
     "execution_count": 102,
     "metadata": {},
     "output_type": "execute_result"
    }
   ],
   "source": [
    "a = np.random.randint(1, 50, 10)\n",
    "a"
   ]
  },
  {
   "cell_type": "code",
   "execution_count": 108,
   "id": "f3ad356f-490c-4952-a699-505532d8419b",
   "metadata": {},
   "outputs": [
    {
     "data": {
      "text/plain": [
       "array([-1, -1, 16, -1, 28, -1, 20, -1, 44, -1])"
      ]
     },
     "execution_count": 108,
     "metadata": {},
     "output_type": "execute_result"
    }
   ],
   "source": [
    "#Replacing values without changing original array\n",
    "# where(condition, result if True,result if False)\n",
    "\n",
    "out = np.where(a%2 ==1, -1, a)\n",
    "out"
   ]
  },
  {
   "cell_type": "code",
   "execution_count": 106,
   "id": "98b2016b-5f51-4efa-911e-4caa6701f795",
   "metadata": {},
   "outputs": [
    {
     "data": {
      "text/plain": [
       "array([21, 45, 16, 31, 28, 15, 20, 27, 44, 23])"
      ]
     },
     "execution_count": 106,
     "metadata": {},
     "output_type": "execute_result"
    }
   ],
   "source": [
    "a"
   ]
  },
  {
   "cell_type": "code",
   "execution_count": 110,
   "id": "ff3e71c5-89d1-4888-b001-e771aa46d532",
   "metadata": {},
   "outputs": [
    {
     "data": {
      "text/plain": [
       "array([ 8, 54, 48, 61, 35, 33, 20, 68, 25, 84, 95, 39, 48,  6, 80])"
      ]
     },
     "execution_count": 110,
     "metadata": {},
     "output_type": "execute_result"
    }
   ],
   "source": [
    "a = np.random.randint(1, 100, 15)\n",
    "a"
   ]
  },
  {
   "cell_type": "code",
   "execution_count": 112,
   "id": "06574223-7310-487a-9105-1fe03cf806f5",
   "metadata": {},
   "outputs": [
    {
     "data": {
      "text/plain": [
       "array([ 6,  8, 20, 25, 33, 35, 39, 48, 48, 54, 61, 68, 80, 84, 95])"
      ]
     },
     "execution_count": 112,
     "metadata": {},
     "output_type": "execute_result"
    }
   ],
   "source": [
    "np.sort(a)  #sorting array"
   ]
  },
  {
   "cell_type": "code",
   "execution_count": 122,
   "id": "d813189e-9f38-44a2-8688-422306fa91fa",
   "metadata": {},
   "outputs": [
    {
     "data": {
      "text/plain": [
       "94.692"
      ]
     },
     "execution_count": 122,
     "metadata": {},
     "output_type": "execute_result"
    }
   ],
   "source": [
    "np.percentile(a, 99.8)"
   ]
  },
  {
   "cell_type": "markdown",
   "id": "ae995547-e992-414b-b58c-fc3a9ba0203a",
   "metadata": {},
   "source": [
    "**Percentile**\n",
    "\n",
    "if we give percentile as 99.5:\n",
    "It denotes that\n",
    "\n",
    "> you're less than 100% of the score\n",
    "> also, you're ahead 99.5% elements in the array"
   ]
  },
  {
   "cell_type": "code",
   "execution_count": null,
   "id": "8dd7ae4c-c5ad-4f42-be3d-863703b2ee50",
   "metadata": {},
   "outputs": [],
   "source": []
  }
 ],
 "metadata": {
  "kernelspec": {
   "display_name": "Python 3 (ipykernel)",
   "language": "python",
   "name": "python3"
  },
  "language_info": {
   "codemirror_mode": {
    "name": "ipython",
    "version": 3
   },
   "file_extension": ".py",
   "mimetype": "text/x-python",
   "name": "python",
   "nbconvert_exporter": "python",
   "pygments_lexer": "ipython3",
   "version": "3.12.7"
  }
 },
 "nbformat": 4,
 "nbformat_minor": 5
}
